{
 "cells": [
  {
   "cell_type": "code",
   "execution_count": null,
   "id": "ea5e36ed-d061-4b57-af96-c1471441fd16",
   "metadata": {},
   "outputs": [],
   "source": [
    "# Did not need to be re-run every time data are updated.\n",
    "\n",
    "# ----------------------------------------------------------------------------\n",
    "# Save list of all the variables output from the API, using /timeseries/meta/variables/\n",
    "# ----------------------------------------------------------------------------\n",
    "\n",
    "for uname in unit_list:\n",
    "    ursl_var_list='https://api.c2.noc.ac.uk/timeseries/meta/variables?platform_serial='+str(uname)+'&platform_type=slocum'\n",
    "    resp_var_list = requests.get(ursl_var_list, headers=headers)\n",
    "    \n",
    "    # Check the response code \n",
    "    # (200 is good.  If you get something else, token may need refreshing)\n",
    "    if not resp_var_list.status_code==200:\n",
    "        print(uname+' - [ resp '+str(resp_var_list.status_code)+' ] '\\\n",
    "              'Cannot access data - May need to refresh token? or check URL variable')\n",
    "    else:\n",
    "        print(uname+' - [ resp '+str(resp_var_list.status_code)+' ] '\\\n",
    "              'Good response code - parsing var list')\n",
    "        \n",
    "        data_folder='03-results/variables_list/'\n",
    "        filename=uname+'_var_list.txt'\n",
    "        filename_sci=uname+'_var_list_sci.txt' # Save only sci & derived data\n",
    "        if not Path('../'+data_folder).exists():\n",
    "            Path('../'+data_folder).mkdir()\n",
    "    \n",
    "        var_list = resp_var_list.content.decode(\"utf-8\")[1:-2].split(',') # split converts str to list, [1:-2] removes square brackets\n",
    "        var_list2 = [k.strip().replace('\"', '') for k in var_list ] # remove leading space and double quotes\n",
    "        var_list_sci=[k for k in var_list2 if (k[:3]=='sci') | (k[:2]=='de')] # keep only sci & derived data\n",
    "        \n",
    "        np.savetxt( cat_data_path(data_folder,filename), var_list2, delimiter =\",\",fmt ='%s')\n",
    "        np.savetxt( cat_data_path(data_folder,filename_sci), var_list_sci, delimiter =\",\",fmt ='%s')\n",
    "\n"
   ]
  }
 ],
 "metadata": {
  "kernelspec": {
   "display_name": "Python 3 (ipykernel)",
   "language": "python",
   "name": "python3"
  },
  "language_info": {
   "codemirror_mode": {
    "name": "ipython",
    "version": 3
   },
   "file_extension": ".py",
   "mimetype": "text/x-python",
   "name": "python",
   "nbconvert_exporter": "python",
   "pygments_lexer": "ipython3",
   "version": "3.9.5"
  }
 },
 "nbformat": 4,
 "nbformat_minor": 5
}
