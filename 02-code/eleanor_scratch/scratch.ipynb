{
 "cells": [
  {
   "cell_type": "code",
   "execution_count": 1,
   "id": "4288a803-546d-4904-9986-07c938dd4abd",
   "metadata": {},
   "outputs": [],
   "source": [
    "%load_ext autoreload\n",
    "%autoreload 2"
   ]
  },
  {
   "cell_type": "code",
   "execution_count": 12,
   "id": "a335b988-42e4-4080-8434-8505a46f78b1",
   "metadata": {},
   "outputs": [],
   "source": [
    "%reload_ext autoreload\n",
    "import numpy as np\n",
    "#import pandas as pd\n",
    "import matplotlib.pyplot as plt\n",
    "import datetime\n",
    "from setdir import *\n",
    "from plotglider import *\n",
    "from scipy.io import loadmat # to load bathymetry\n",
    "import xarray as xr\n",
    "#import seaborn as sns\n",
    "import glob\n",
    "from scipy import stats\n",
    "import cmocean\n",
    "import gsw\n",
    "from calc_oxy import *"
   ]
  },
  {
   "cell_type": "code",
   "execution_count": 6,
   "id": "832fc682-bcba-4534-bba5-2af0f99a272e",
   "metadata": {},
   "outputs": [],
   "source": [
    "tmp = cat_proc_path('unit_398_data_20220216.nc')\n"
   ]
  },
  {
   "cell_type": "code",
   "execution_count": 4,
   "id": "ea9ca407-8eea-43dc-ab52-590e4ed95a4b",
   "metadata": {},
   "outputs": [
    {
     "name": "stdout",
     "output_type": "stream",
     "text": [
      "../01-data/03-processed/test_save.nc\n"
     ]
    }
   ],
   "source": [
    "print(tmp)"
   ]
  },
  {
   "cell_type": "code",
   "execution_count": 7,
   "id": "024e2ad9-bae3-4491-97f0-85774ba1a6cf",
   "metadata": {},
   "outputs": [],
   "source": [
    "xr1 = xr.open_dataset(tmp)"
   ]
  },
  {
   "cell_type": "code",
   "execution_count": 14,
   "id": "510267ff-23c3-4eb6-8e06-5cd53f243610",
   "metadata": {},
   "outputs": [
    {
     "name": "stdout",
     "output_type": "stream",
     "text": [
      "<xarray.Dataset>\n",
      "Dimensions:                        (time: 77344)\n",
      "Coordinates:\n",
      "  * time                           (time) datetime64[ns] 2021-12-12 ... 2022-...\n",
      "Data variables: (12/27)\n",
      "    sci_water_temp                 (time) float64 nan nan nan ... nan nan nan\n",
      "    sci_water_cond                 (time) float64 nan nan nan ... nan nan nan\n",
      "    derived_salinity               (time) float64 nan nan nan ... nan nan nan\n",
      "    derived_potential_density      (time) float64 nan nan nan ... nan nan nan\n",
      "    derived_potential_temperature  (time) float64 nan nan nan ... nan nan nan\n",
      "    sci_bb2flsv9_b532_scaled       (time) float64 nan nan nan ... nan nan nan\n",
      "    ...                             ...\n",
      "    m_gps_lat                      (time) float64 nan nan nan ... nan 56.05 nan\n",
      "    m_lat                          (time) float64 60.35 60.35 ... nan 56.05\n",
      "    m_lon                          (time) float64 -46.79 -46.79 ... nan -53.05\n",
      "    pressure_dbar                  (time) float64 nan nan nan ... nan nan nan\n",
      "    profile_index                  (time) float64 nan nan nan ... nan nan nan\n",
      "    o2conc_cal                     (time) float64 nan nan nan ... nan nan nan\n",
      "Attributes:\n",
      "    Platform:       slocum\n",
      "    End Time:       20220216\n",
      "    Project:        TERIFIC\n",
      "    Institution:    National Oceanography Centre, UK\n",
      "    Date created:   20220216\n",
      "    Serial number:  unit_398\n",
      "    Platform name:  Churchill\n",
      "    optode S/N:     232\n"
     ]
    }
   ],
   "source": [
    "uname = 'unit_398'\n",
    "sensor_sn = {\n",
    "    'unit_398': {\"optode S/N\": \"232\"},\n",
    "    'unit_409': {\"optode S/N\": \"268\"},\n",
    "}\n",
    "sensorsn1 = sensor_sn[uname]\n",
    "data_ds = xr1.assign_attrs(sensorsn1)\n",
    "data_ds = calc_o2conc_cal(data_ds)\n",
    "print(data_ds)\n",
    "\n"
   ]
  },
  {
   "cell_type": "code",
   "execution_count": 16,
   "id": "b807eed1-40e3-49bf-b9f4-6c1e01a8886f",
   "metadata": {},
   "outputs": [
    {
     "data": {
      "text/plain": [
       "[<matplotlib.lines.Line2D at 0x7ff446204280>]"
      ]
     },
     "execution_count": 16,
     "metadata": {},
     "output_type": "execute_result"
    },
    {
     "data": {
      "image/png": "[encoded data removed]",
      "text/plain": [
       "<Figure size 432x288 with 1 Axes>"
      ]
     },
     "metadata": {
      "needs_background": "light"
     },
     "output_type": "display_data"
    }
   ],
   "source": [
    "plt.plot(data_ds.o2conc_cal)\n",
    "plt.plot(data_ds.sci_oxy4_oxygen)"
   ]
  },
  {
   "cell_type": "code",
   "execution_count": null,
   "id": "a90fe1cc-d232-4214-9746-373579e9b956",
   "metadata": {},
   "outputs": [],
   "source": []
  }
 ],
 "metadata": {
  "kernelspec": {
   "display_name": "env_c2slocum",
   "language": "python",
   "name": "env_c2slocum"
  },
  "language_info": {
   "codemirror_mode": {
    "name": "ipython",
    "version": 3
   },
   "file_extension": ".py",
   "mimetype": "text/x-python",
   "name": "python",
   "nbconvert_exporter": "python",
   "pygments_lexer": "ipython3",
   "version": "3.9.7"
  }
 },
 "nbformat": 4,
 "nbformat_minor": 5
}
