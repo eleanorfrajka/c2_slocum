{
 "cells": [
  {
   "cell_type": "markdown",
   "metadata": {
    "pycharm": {
     "name": "#%% md\n"
    }
   },
   "source": [
    "# Authentication\n",
    "\n",
    "After you complete this section you will learn how to make your first API request to the APF and how to keep this connection alive:\n",
    "\n",
    "1. [Registering a user account on the C2](#registering-a-user-account-on-the-C2)\n",
    "1. [Generating an API Token](#generating-an-API-Token)\n",
    "1. [Token refresh](#Token-Refresh)"
   ]
  },
  {
   "cell_type": "markdown",
   "metadata": {
    "pycharm": {
     "name": "#%% md\n"
    }
   },
   "source": [
    "#### Notebook configuration"
   ]
  },
  {
   "cell_type": "code",
   "execution_count": 2,
   "metadata": {},
   "outputs": [],
   "source": [
    "import pickle\n",
    "with open('apf_settings.pickle', 'rb') as f:\n",
    "    API_ROOT,APF,TOKEN,DEPLOYMENT_ID,\\\n",
    "    ALGORITHM_ID,ALGORITHM_VERSION,ORCHESTRATOR_ID,ALGORITHM_INSTANCE_ID = pickle.load(f)"
   ]
  },
  {
   "cell_type": "markdown",
   "metadata": {
    "pycharm": {
     "name": "#%% md\n"
    }
   },
   "source": [
    "## Registering a user account on the C2\n",
    "\n",
    "Whilst the algorithms themselves will interact with the system using\n",
    "_API Tokens_, user(s) from your institution are responsible for generating\n",
    "these tokens, which will be tied to their user accounts.\n",
    "\n",
    "If you have not already signed up for a C2 user account, you simply need to\n",
    "go to:\n",
    "\n",
    "https://piloting.c2.noc.ac.uk/auth/login\n",
    "\n",
    "Enter the email address and desired password you want for your account, and\n",
    "click **Sign Up** instead of Login.\n",
    "\n",
    "<div class=\"alert alert-block alert-info\">\n",
    "<b>Note:</b> We are currently manually approving users' access to the C2 so if you are\n",
    "not already in contact with us please also send an email to c2@noc.ac.uk\n",
    "detailing what you intend on using the C2 APIs for; please include the email\n",
    "you used to sign up. We will email you back when your account has been\n",
    "approved, until then you won't be able to log in.</div>\n",
    "\n"
   ]
  },
  {
   "cell_type": "markdown",
   "metadata": {
    "pycharm": {
     "name": "#%% md\n"
    }
   },
   "source": [
    "## Generating an API Token\n",
    "\n",
    "Once your account is active, you can generate a token by going to:\n",
    "\n",
    "https://api.c2.noc.ac.uk/charon/tokens/issue\n",
    "\n",
    "in a web browser -- it will ask you for your login details. Copy the token and\n",
    "paste it in the cell below.\n",
    "\n",
    "\n",
    "<div class=\"alert alert-block alert-danger\">\n",
    "<b>Important:</b> Copy the token before you navigate away from that page as\n",
    "the page cannot be refreshed. You, the user are responsible for managing these\n",
    "tokens: revoking them when no longer used. Please keep your tokens safe: don't\n",
    "store them in plaintext in any code repositories for example.\n",
    "</div>\n",
    "\n",
    "You will be able to submit actions to the piloting framework using the\n",
    "generated token, in an `Authorization: Bearer` header on your web requests.\n",
    "\n",
    "Throughout the rest of the notebooks, we will be making use of a helper\n",
    "function `api_request` which wraps the `requests` library. Here an example of\n",
    "its use:"
   ]
  },
  {
   "cell_type": "code",
   "execution_count": 3,
   "metadata": {},
   "outputs": [
    {
     "name": "stdout",
     "output_type": "stream",
     "text": [
      "[\n",
      "    {\n",
      "        \"description\": \"Simple driver which accepts actions asynchronously from all connected\\n    algorithms, and calls the relevant APIs straight away. It does not wait\\n    for the associated platform to be in the correct state -- unless\\n    the platform, related APIs or the driver itself reach an error/failure\\n    state, in which case the driver halts.\\n\\n    For example: this driver would take accepted plan updates at any time and\\n    convert them into platform-specific files, upload and commit them to\\n    greatblue2 and send them to the platform instantly, without requiring\\n    the platform to have connected and had its state validated.\\n\\n    However, if an error is then raised somewhere, the driver will process\\n    no further actions.\",\n",
      "        \"module_name\": \"simple\",\n",
      "        \"parameter_schema\": null,\n",
      "        \"status_schema\": null\n",
      "    },\n",
      "    {\n",
      "        \"description\": \"Does what `simple` does, but does not upload or send files via the\\n    greatblue2 API -- it creates, updates and compiles plans but does not\\n    go any further.\",\n",
      "        \"module_name\": \"simple_mock\",\n",
      "        \"parameter_schema\": null,\n",
      "        \"status_schema\": null\n",
      "    }\n",
      "]\n"
     ]
    }
   ],
   "source": [
    "from c2_lib import init\n",
    "from c2_lib import api_request\n",
    "import json\n",
    "\n",
    "TOKEN = '464107350f054dc599fa5b2550d11d49'                    \n",
    "\n",
    "response = api_request(APF + '/drivers',method='get',token=TOKEN)\n",
    "print(json.dumps(response.json(), indent=4, sort_keys=True))"
   ]
  },
  {
   "cell_type": "markdown",
   "metadata": {
    "pycharm": {
     "name": "#%% md\n"
    }
   },
   "source": [
    "## Token Refresh\n",
    "\n",
    "_Currently, tokens remain active 1 hour after their last use, so they don't\n",
    "need to be refreshed - but we would encourage you to use the token refresh\n",
    "mechanism now for better security, and it may be required in future._\n",
    "\n",
    "<div class=\"alert alert-block alert-info\">\n",
    "<b>Note:</b> As the notebook is interactive, not a long-running process, we\n",
    "won't be making use of refresh tokens. If your token expires whilst you are\n",
    "using it, you can just request a new one.</div>\n",
    "\n",
    "<div class=\"alert alert-block alert-warning\">\n",
    "<b>Warning:</b> By default, tokens expire after an hour. Before they expire,\n",
    "you can \"refresh\" them. This changes the token hash but keeps the permissions.\n",
    "This is for security, so that any credentials stored in plain text on disk\n",
    "will only be valid for a short period. This means when developing your\n",
    "algorithms you want to be having them refresh their token(s) approximately\n",
    "every 55 minutes.\n",
    "</div>\n",
    "\n",
    "For refresh, you could use a thread which simply pings the Automated Piloting\n",
    "API every 55 minutes, to update the token. Once this thread is `start()`ed,\n",
    "it will continue to run in the background. Your original token will be\n",
    "invalidated upon refresh.\n",
    "\n",
    "Here is some example code which would do this:"
   ]
  },
  {
   "cell_type": "code",
   "execution_count": 4,
   "metadata": {},
   "outputs": [
    {
     "name": "stdout",
     "output_type": "stream",
     "text": [
      "New token: 91ed8e01cca14407b83940fcc20d7a31\n"
     ]
    }
   ],
   "source": [
    "from c2_lib import auth\n",
    "c2_auth = auth.authenticate(api_root=API_ROOT, token=TOKEN, apf=APF)"
   ]
  },
  {
   "cell_type": "markdown",
   "metadata": {},
   "source": [
    "Here you can see the source code:"
   ]
  },
  {
   "cell_type": "code",
   "execution_count": null,
   "metadata": {},
   "outputs": [],
   "source": [
    "# %load c2_lib/auth.py\n",
    "import threading\n",
    "import datetime\n",
    "import logging\n",
    "import time\n",
    "from . import api_request\n",
    "\n",
    "class C2Auth(threading.Thread):\n",
    "    \"\"\"\n",
    "    A thread which, once started, sits in the background and attempts to\n",
    "    refresh a C2 authentication token against the `charon` API at a regular\n",
    "    interval (default of 55 minutes).\n",
    "\n",
    "    The refreshed token is then stored in `.token`, and you can use this\n",
    "    token when making requests to C2 APIs.\n",
    "    \"\"\"\n",
    "\n",
    "    def __init__(\n",
    "            self,\n",
    "            original_token,\n",
    "            api_root,\n",
    "            refresh_interval=55 * 60,\n",
    "            retry_interval=60,\n",
    "            max_retries=3,\n",
    "            daemon=True,\n",
    "            *args,\n",
    "            **kwargs\n",
    "    ):\n",
    "        \"\"\"\n",
    "        :param original_token: The original token you received when you\n",
    "                               visited the /charon/tokens/issue page in a\n",
    "                               web browser.\n",
    "        :param api_root: The root path of the C2 API in use\n",
    "                         (https://api.c2.noc.ac.uk is the default, it could\n",
    "                          be https://api.test.c2.noc.ac.uk for example)\n",
    "        :param refresh_interval: Amount of time (in seconds) between\n",
    "                                 token refresh attempts. Defaults to\n",
    "                                 55 minutes.\n",
    "        :param retry_interval: Amount of time to wait (in seconds) between\n",
    "                               retries, when the first attempt at refreshing\n",
    "                               a token has failed.\n",
    "        :param max_retries: Total number of attempts to make at refreshing\n",
    "                            a token, before giving up\n",
    "        :param daemon: Tell the Python interpreter that it doesn't have to\n",
    "                       wait for this thread to finish when quitting\n",
    "                       (default True)\n",
    "        \"\"\"\n",
    "        super(C2Auth, self).__init__(*args, **kwargs)\n",
    "        self.original_token = original_token\n",
    "        self.token = original_token\n",
    "        self.api_root = api_root\n",
    "        self.last_used = None\n",
    "        self.last_response = None\n",
    "        self.last_error = None\n",
    "        self.refresh_interval = refresh_interval\n",
    "        self.retry_interval = retry_interval\n",
    "        self.refreshed = False\n",
    "        self.max_retries = max_retries\n",
    "        self.retries = 0\n",
    "        self.running = False\n",
    "        self.daemon = daemon\n",
    "\n",
    "    def refresh(self):\n",
    "        url = self.api_root + '/charon/tokens/' + self.token\n",
    "        try:\n",
    "            logging.debug('Attempting to refresh token using %s', url)\n",
    "            response = api_request(\n",
    "                url=url,\n",
    "                # Remember: The original (current) token needs to be passed to\n",
    "                # the refresh call, both in the URL (specifying which token\n",
    "                # you, the authorized user, want to refresh), and in the\n",
    "                # \"Authorization: Bearer\" header (using the token to identify\n",
    "                # and authorize you to use that API call)\n",
    "                token=self.token,\n",
    "                method='put'\n",
    "            )\n",
    "            while response.status_code not in [200, 401] \\\n",
    "                    and self.retries < self.max_retries:\n",
    "                logging.warning(\n",
    "                    'Token refresh failed for %s, retry %s/%s: %s %s',\n",
    "                    url, self.retries, self.max_retries,\n",
    "                    response.status_code, response.content\n",
    "                )\n",
    "                time.sleep(self.retry_interval)\n",
    "                self.refreshed = False\n",
    "                response = api_request(\n",
    "                    url=self.api_root + '/tokens/' + self.token,\n",
    "                    token=self.token,\n",
    "                    method='put'\n",
    "                )\n",
    "                self.retries += 1\n",
    "            self.last_response = response\n",
    "            self.last_used = datetime.datetime.utcnow()\n",
    "            self.refreshed = response.status_code == 200\n",
    "            if self.refreshed:\n",
    "                self.token = response.json()['payload']\n",
    "                self.retries = 0\n",
    "            logging.debug('Token refreshed: %s', self.refreshed)\n",
    "        except BaseException as e:\n",
    "            logging.exception(\n",
    "                'Token refresh failed whilst trying to access %s', url\n",
    "            )\n",
    "            self.last_error = e\n",
    "            self.refreshed = False\n",
    "\n",
    "    def run(self):\n",
    "        self.running = True\n",
    "        while self.running:\n",
    "            self.refresh()\n",
    "            time.sleep(self.refresh_interval)\n",
    "\n",
    "\n",
    "def authenticate(api_root, token, apf):\n",
    "    \"\"\"\n",
    "    Creates and starts a C2Auth thread.\n",
    "    \"\"\"\n",
    "    if 'localhost' not in apf:\n",
    "        assert token != '<paste your token from charon here>',\\\n",
    "            \"token needs to be set to a valid access token from charon\"\n",
    "    c2_auth = C2Auth(\n",
    "        original_token=token,\n",
    "        api_root=api_root\n",
    "    )\n",
    "    if 'localhost' not in apf:\n",
    "        # Note: once this thread starts, the TOKEN defined above will become\n",
    "        # invalid as the C2 API will refresh it straight away.\n",
    "        c2_auth.start()\n",
    "        time.sleep(5)\n",
    "        print('New token:', c2_auth.token)\n",
    "    return c2_auth\n",
    "\n"
   ]
  },
  {
   "cell_type": "markdown",
   "metadata": {},
   "source": [
    "Finally, you can test the new token valid for another hour:"
   ]
  },
  {
   "cell_type": "code",
   "execution_count": 6,
   "metadata": {
    "scrolled": true
   },
   "outputs": [
    {
     "name": "stdout",
     "output_type": "stream",
     "text": [
      "[\n",
      "    {\n",
      "        \"description\": \"Simple driver which accepts actions asynchronously from all connected\\n    algorithms, and calls the relevant APIs straight away. It does not wait\\n    for the associated platform to be in the correct state -- unless\\n    the platform, related APIs or the driver itself reach an error/failure\\n    state, in which case the driver halts.\\n\\n    For example: this driver would take accepted plan updates at any time and\\n    convert them into platform-specific files, upload and commit them to\\n    greatblue2 and send them to the platform instantly, without requiring\\n    the platform to have connected and had its state validated.\\n\\n    However, if an error is then raised somewhere, the driver will process\\n    no further actions.\",\n",
      "        \"module_name\": \"simple\",\n",
      "        \"parameter_schema\": null,\n",
      "        \"status_schema\": null\n",
      "    },\n",
      "    {\n",
      "        \"description\": \"Does what `simple` does, but does not upload or send files via the\\n    greatblue2 API -- it creates, updates and compiles plans but does not\\n    go any further.\",\n",
      "        \"module_name\": \"simple_mock\",\n",
      "        \"parameter_schema\": null,\n",
      "        \"status_schema\": null\n",
      "    }\n",
      "]\n"
     ]
    }
   ],
   "source": [
    "from c2_lib import api_request\n",
    "\n",
    "TOKEN = c2_auth.token   # renewed token\n",
    "response = api_request(API_ROOT+'/apf/drivers',method='get',token=TOKEN)\n",
    "print(json.dumps(response.json(), indent=4, sort_keys=True))"
   ]
  },
  {
   "cell_type": "markdown",
   "metadata": {},
   "source": [
    "Finally save all the variables in the pickle file:"
   ]
  },
  {
   "cell_type": "code",
   "execution_count": 7,
   "metadata": {},
   "outputs": [],
   "source": [
    "import pickle\n",
    "with open('apf_settings.pickle', 'w+b') as f:\n",
    "    pickle.dump([API_ROOT,APF,TOKEN,DEPLOYMENT_ID,\\\n",
    "                 ALGORITHM_ID,ALGORITHM_VERSION,ORCHESTRATOR_ID,ALGORITHM_INSTANCE_ID], f)"
   ]
  },
  {
   "cell_type": "markdown",
   "metadata": {
    "pycharm": {
     "name": "#%% md\n"
    }
   },
   "source": [
    "### A note about the token refresh thread\n",
    "\n",
    "If you ran the cell above which calls `auth.authenticate`, this started a\n",
    "background thread for the periodic token refresh. This will continue to\n",
    "run for as long as your Jupyter Notebook is running - there is no guarantee\n",
    "it will stop when you stop or restart the kernel, only stopping the notebook\n",
    "server itself is guaranteed to end the thread.\n",
    "\n",
    "You can check whether the token refresh thread is alive (still running,\n",
    "and still refreshing tokens), with the threading `is_alive` function:"
   ]
  },
  {
   "cell_type": "code",
   "execution_count": 8,
   "metadata": {
    "pycharm": {
     "name": "#%%\n"
    }
   },
   "outputs": [
    {
     "data": {
      "text/plain": [
       "True"
      ]
     },
     "execution_count": 8,
     "metadata": {},
     "output_type": "execute_result"
    }
   ],
   "source": [
    "c2_auth.is_alive()"
   ]
  },
  {
   "cell_type": "markdown",
   "metadata": {
    "pycharm": {
     "name": "#%% md\n"
    }
   },
   "source": [
    "You can stop it from refreshing the token any further by setting the\n",
    "`running` parameter to `False`. **This will not stop the thread immediately**,\n",
    "but it will end the thread when it is next due to refresh the token."
   ]
  },
  {
   "cell_type": "code",
   "execution_count": 9,
   "metadata": {
    "pycharm": {
     "name": "#%%\n"
    }
   },
   "outputs": [],
   "source": [
    "c2_auth.running = False"
   ]
  },
  {
   "cell_type": "markdown",
   "metadata": {
    "pycharm": {
     "name": "#%% md\n"
    }
   },
   "source": [
    "# Authorization\n",
    "\n",
    "The C2 APIs filter results based on your user account and access token's\n",
    "permissions. If you do not have permission to view a platform or deployment\n",
    "for which you are requesting data, you will not receive results for that\n",
    "deployment or platform.\n",
    "\n",
    "Permissions can be time-based, meaning that you may be given access to a\n",
    "platform within the duration of a deployment.\n",
    "\n",
    "When requesting information about a single specific\n",
    "platform or deployment, you may receive a `403 Forbidden` HTTP response which\n",
    "will describe which permission(s) you are missing.\n",
    "\n",
    "However, if you are making a request to an API endpoint which returns a\n",
    "filterable collection of data (i.e. a list of deployments), and you don't\n",
    "have permission to view any of the deployments or platforms you are interested\n",
    "in, you may receive an empty list in response.\n",
    "\n",
    "As an algorithm developer, currently you will have permissions tied to your\n",
    "user account, and the C2 Team is responsible for delegating those permissions.\n",
    "\n",
    "We are planning to further automate this in the future, such your account\n",
    "will automatically be granted specific permissions to access data for the\n",
    "instances of your algorithms, and the deployments and platforms for which\n",
    "those instances are associated to. Once an instance is deleted, or a\n",
    "deployment ends, you would lose access to that deployment and platform unless\n",
    "your user has otherwise been granted permission."
   ]
  }
 ],
 "metadata": {
  "jupytext": {
   "cell_metadata_filter": "all",
   "formats": "ipynb,rmd//md",
   "notebook_metadata_filter": "-all"
  },
  "kernelspec": {
   "display_name": "Python 3 (ipykernel)",
   "language": "python",
   "name": "python3"
  },
  "language_info": {
   "codemirror_mode": {
    "name": "ipython",
    "version": 3
   },
   "file_extension": ".py",
   "mimetype": "text/x-python",
   "name": "python",
   "nbconvert_exporter": "python",
   "pygments_lexer": "ipython3",
   "version": "3.9.5"
  },
  "toc": {
   "base_numbering": 1,
   "nav_menu": {},
   "number_sections": true,
   "sideBar": true,
   "skip_h1_title": false,
   "title_cell": "Table of Contents",
   "title_sidebar": "Contents",
   "toc_cell": false,
   "toc_position": {},
   "toc_section_display": true,
   "toc_window_display": false
  }
 },
 "nbformat": 4,
 "nbformat_minor": 4
}
